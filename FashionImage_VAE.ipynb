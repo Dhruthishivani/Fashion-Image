{
  "nbformat": 4,
  "nbformat_minor": 0,
  "metadata": {
    "colab": {
      "provenance": [],
      "gpuType": "T4"
    },
    "kernelspec": {
      "name": "python3",
      "display_name": "Python 3"
    },
    "language_info": {
      "name": "python"
    },
    "accelerator": "GPU"
  },
  "cells": [
    {
      "cell_type": "code",
      "execution_count": null,
      "metadata": {
        "id": "WfcomoMwzPWg"
      },
      "outputs": [],
      "source": [
        "import torch\n",
        "import numpy as np\n",
        "from torch.utils.data import Dataset, DataLoader\n",
        "from torch import nn\n",
        "from torchvision import transforms\n",
        "import matplotlib.pyplot as plt\n",
        "import torchvision\n",
        "import torch.nn.functional as F\n",
        "from torch.autograd import Variable\n",
        "from torch import optim\n"
      ]
    },
    {
      "cell_type": "code",
      "source": [
        "device = 'cuda' if torch.cuda.is_available() else 'cpu'"
      ],
      "metadata": {
        "id": "7obtYUQR1e2Y"
      },
      "execution_count": null,
      "outputs": []
    },
    {
      "cell_type": "code",
      "source": [
        "trans = transforms.Compose([\n",
        "    transforms.ToTensor(), transforms.Normalize((0.5), (0.5))\n",
        "])\n",
        "\n",
        "dataset = torchvision.datasets.FashionMNIST('.data/', download=True, train=True, transform=trans)"
      ],
      "metadata": {
        "colab": {
          "base_uri": "https://localhost:8080/"
        },
        "id": "svFd8O0Q1ifQ",
        "outputId": "7f8f3eed-438c-4651-d145-238e4d1da999"
      },
      "execution_count": null,
      "outputs": [
        {
          "output_type": "stream",
          "name": "stdout",
          "text": [
            "Downloading http://fashion-mnist.s3-website.eu-central-1.amazonaws.com/train-images-idx3-ubyte.gz\n",
            "Downloading http://fashion-mnist.s3-website.eu-central-1.amazonaws.com/train-images-idx3-ubyte.gz to .data/FashionMNIST/raw/train-images-idx3-ubyte.gz\n"
          ]
        },
        {
          "output_type": "stream",
          "name": "stderr",
          "text": [
            "100%|██████████| 26421880/26421880 [00:01<00:00, 13382117.55it/s]\n"
          ]
        },
        {
          "output_type": "stream",
          "name": "stdout",
          "text": [
            "Extracting .data/FashionMNIST/raw/train-images-idx3-ubyte.gz to .data/FashionMNIST/raw\n",
            "\n",
            "Downloading http://fashion-mnist.s3-website.eu-central-1.amazonaws.com/train-labels-idx1-ubyte.gz\n",
            "Downloading http://fashion-mnist.s3-website.eu-central-1.amazonaws.com/train-labels-idx1-ubyte.gz to .data/FashionMNIST/raw/train-labels-idx1-ubyte.gz\n"
          ]
        },
        {
          "output_type": "stream",
          "name": "stderr",
          "text": [
            "100%|██████████| 29515/29515 [00:00<00:00, 211302.74it/s]\n"
          ]
        },
        {
          "output_type": "stream",
          "name": "stdout",
          "text": [
            "Extracting .data/FashionMNIST/raw/train-labels-idx1-ubyte.gz to .data/FashionMNIST/raw\n",
            "\n",
            "Downloading http://fashion-mnist.s3-website.eu-central-1.amazonaws.com/t10k-images-idx3-ubyte.gz\n",
            "Downloading http://fashion-mnist.s3-website.eu-central-1.amazonaws.com/t10k-images-idx3-ubyte.gz to .data/FashionMNIST/raw/t10k-images-idx3-ubyte.gz\n"
          ]
        },
        {
          "output_type": "stream",
          "name": "stderr",
          "text": [
            "100%|██████████| 4422102/4422102 [00:01<00:00, 3911811.72it/s]\n"
          ]
        },
        {
          "output_type": "stream",
          "name": "stdout",
          "text": [
            "Extracting .data/FashionMNIST/raw/t10k-images-idx3-ubyte.gz to .data/FashionMNIST/raw\n",
            "\n",
            "Downloading http://fashion-mnist.s3-website.eu-central-1.amazonaws.com/t10k-labels-idx1-ubyte.gz\n",
            "Downloading http://fashion-mnist.s3-website.eu-central-1.amazonaws.com/t10k-labels-idx1-ubyte.gz to .data/FashionMNIST/raw/t10k-labels-idx1-ubyte.gz\n"
          ]
        },
        {
          "output_type": "stream",
          "name": "stderr",
          "text": [
            "100%|██████████| 5148/5148 [00:00<00:00, 5709221.84it/s]"
          ]
        },
        {
          "output_type": "stream",
          "name": "stdout",
          "text": [
            "Extracting .data/FashionMNIST/raw/t10k-labels-idx1-ubyte.gz to .data/FashionMNIST/raw\n",
            "\n"
          ]
        },
        {
          "output_type": "stream",
          "name": "stderr",
          "text": [
            "\n"
          ]
        }
      ]
    },
    {
      "cell_type": "code",
      "source": [
        "dataset.class_to_idx"
      ],
      "metadata": {
        "colab": {
          "base_uri": "https://localhost:8080/"
        },
        "id": "LNTT0BIM1y47",
        "outputId": "0f42a692-4283-4e6b-8bb9-0845a0456ca6"
      },
      "execution_count": null,
      "outputs": [
        {
          "output_type": "execute_result",
          "data": {
            "text/plain": [
              "{'T-shirt/top': 0,\n",
              " 'Trouser': 1,\n",
              " 'Pullover': 2,\n",
              " 'Dress': 3,\n",
              " 'Coat': 4,\n",
              " 'Sandal': 5,\n",
              " 'Shirt': 6,\n",
              " 'Sneaker': 7,\n",
              " 'Bag': 8,\n",
              " 'Ankle boot': 9}"
            ]
          },
          "metadata": {},
          "execution_count": 4
        }
      ]
    },
    {
      "cell_type": "code",
      "source": [
        "classes = list(dataset.class_to_idx.keys())"
      ],
      "metadata": {
        "id": "XLit3Av719so"
      },
      "execution_count": null,
      "outputs": []
    },
    {
      "cell_type": "code",
      "source": [
        "dataloader = DataLoader(dataset, batch_size=128, shuffle=True)"
      ],
      "metadata": {
        "id": "bAJqspkg13ac"
      },
      "execution_count": null,
      "outputs": []
    },
    {
      "cell_type": "code",
      "source": [
        "fig, axes = plt.subplots(1,5, figsize=(10,2))\n",
        "\n",
        "for ax in axes.ravel():\n",
        "  r = next(iter(dataloader))\n",
        "  ax.imshow(r[0].numpy()[1].reshape(28,28), cmap='bone_r')\n",
        "  ax.set_title(classes[r[1].numpy()[1]])\n",
        "  ax.axis('off')\n"
      ],
      "metadata": {
        "colab": {
          "base_uri": "https://localhost:8080/",
          "height": 192
        },
        "id": "pcBwps-a2DpD",
        "outputId": "9eb75e0a-daa9-45c8-d954-9effca227a95"
      },
      "execution_count": null,
      "outputs": [
        {
          "output_type": "display_data",
          "data": {
            "text/plain": [
              "<Figure size 1000x200 with 5 Axes>"
            ],
            "image/png": "[encoded data removed]"
          },
          "metadata": {}
        }
      ]
    },
    {
      "cell_type": "code",
      "source": [
        "class VAE(nn.Module):\n",
        "  def __init__(self):\n",
        "    super().__init__()\n",
        "\n",
        "    self.input_layer = nn.Linear(784, 400)\n",
        "\n",
        "    self.mu = nn.Linear(400, 20)\n",
        "\n",
        "    self.sigma = nn.Linear(400, 20)\n",
        "\n",
        "    self.upscale_sample = nn.Linear(20,400)\n",
        "\n",
        "    self.output_layer = nn.Linear(400, 784)\n",
        "\n",
        "  def encode(self, x):\n",
        "    x = F.relu(self.input_layer(x))\n",
        "    return self.mu(x), self.sigma(x)\n",
        "\n",
        "  def parametric(self, mu, sigma):\n",
        "    std = sigma.exp()\n",
        "\n",
        "    if torch.cuda.is_available():\n",
        "      sample = torch.cuda.FloatTensor(mu.size()).normal_()\n",
        "    else:\n",
        "      sample = torch.FloatTensor(mu.size()).normal_()\n",
        "\n",
        "    sample = Variable(sample)\n",
        "\n",
        "    return sample.mul(std).add(mu)\n",
        "\n",
        "  def decode(self, sample):\n",
        "    x = F.relu(self.upscale_sample(sample))\n",
        "    return torch.sigmoid(self.output_layer(x))\n",
        "\n",
        "\n",
        "  def forward(self, x):\n",
        "    mu, sigma = self.encode(x)\n",
        "    sample = self.parametric(mu, sigma)\n",
        "\n",
        "    return self.decode(sample), mu, sigma"
      ],
      "metadata": {
        "id": "4qp8zxZM2t6S"
      },
      "execution_count": null,
      "outputs": []
    },
    {
      "cell_type": "code",
      "source": [
        "model = VAE().to(device)"
      ],
      "metadata": {
        "id": "enb7Qx9440KF"
      },
      "execution_count": null,
      "outputs": []
    },
    {
      "cell_type": "code",
      "source": [
        "model"
      ],
      "metadata": {
        "colab": {
          "base_uri": "https://localhost:8080/"
        },
        "id": "AFb1hMmQ42f3",
        "outputId": "d5e17ab9-42f4-4be9-8b04-7d16e3abc46d"
      },
      "execution_count": null,
      "outputs": [
        {
          "output_type": "execute_result",
          "data": {
            "text/plain": [
              "VAE(\n",
              "  (input_layer): Linear(in_features=784, out_features=400, bias=True)\n",
              "  (mu): Linear(in_features=400, out_features=20, bias=True)\n",
              "  (sigma): Linear(in_features=400, out_features=20, bias=True)\n",
              "  (upscale_sample): Linear(in_features=20, out_features=400, bias=True)\n",
              "  (output_layer): Linear(in_features=400, out_features=784, bias=True)\n",
              ")"
            ]
          },
          "metadata": {},
          "execution_count": 10
        }
      ]
    },
    {
      "cell_type": "code",
      "source": [
        "def loss_function(reconstructed, real, mu, sigma):\n",
        "  image_loss = nn.MSELoss(reduction='sum')(reconstructed, real)\n",
        "\n",
        "  kl_loss = -0.5*(torch.sum(1+sigma - mu.pow(2) - sigma.exp()))\n",
        "\n",
        "  return image_loss, kl_loss"
      ],
      "metadata": {
        "id": "W7LWUZqH5BN2"
      },
      "execution_count": null,
      "outputs": []
    },
    {
      "cell_type": "code",
      "source": [
        "optimizer = optim.Adam(model.parameters(), lr=1e-3)"
      ],
      "metadata": {
        "id": "6RVSXzJZ5dzF"
      },
      "execution_count": null,
      "outputs": []
    },
    {
      "cell_type": "code",
      "source": [
        "epochs = 10\n",
        "\n",
        "for epoch in range(epochs):\n",
        "  model.train()\n",
        "\n",
        "  print(f\"Epoch: {epoch}\")\n",
        "\n",
        "  train_loss_im, train_loss_kl = 0,0\n",
        "\n",
        "  for b, data in enumerate(dataloader):\n",
        "    img, _ = data\n",
        "\n",
        "    img = img.view(img.size(0), -1)\n",
        "    img = Variable(img).to(device)\n",
        "\n",
        "    optimizer.zero_grad()\n",
        "\n",
        "    recons, mu, sigma = model(img)\n",
        "\n",
        "    loss_im, loss_kl = loss_function(recons, img, mu, sigma)\n",
        "\n",
        "    loss = loss_im+loss_kl\n",
        "\n",
        "    loss.backward()\n",
        "    optimizer.step()\n",
        "\n",
        "\n"
      ],
      "metadata": {
        "colab": {
          "base_uri": "https://localhost:8080/"
        },
        "id": "AVZL2dji5jCf",
        "outputId": "fa01e9a6-897d-44fb-8506-efe2fa24de34"
      },
      "execution_count": null,
      "outputs": [
        {
          "output_type": "stream",
          "name": "stdout",
          "text": [
            "Epoch: 0\n"
          ]
        },
        {
          "output_type": "stream",
          "name": "stderr",
          "text": [
            "<ipython-input-8-35dae9c17d9a>:23: UserWarning: The torch.cuda.*DtypeTensor constructors are no longer recommended. It's best to use methods such as torch.tensor(data, dtype=*, device='cuda') to create tensors. (Triggered internally at ../torch/csrc/tensor/python_tensor.cpp:78.)\n",
            "  sample = torch.cuda.FloatTensor(mu.size()).normal_()\n"
          ]
        },
        {
          "output_type": "stream",
          "name": "stdout",
          "text": [
            "Epoch: 1\n",
            "Epoch: 2\n",
            "Epoch: 3\n",
            "Epoch: 4\n",
            "Epoch: 5\n",
            "Epoch: 6\n",
            "Epoch: 7\n",
            "Epoch: 8\n",
            "Epoch: 9\n"
          ]
        }
      ]
    },
    {
      "cell_type": "code",
      "source": [
        "model.eval()\n",
        "\n",
        "ev_img = next(iter(dataloader))[0].numpy()[1].reshape(28,28)\n",
        "\n",
        "ev_img_r = ev_img.ravel()\n",
        "\n",
        "ev_mu, ev_sigma = model.encode(torch.from_numpy(ev_img_r).cuda())\n",
        "\n",
        "ev_param_tensor = model.parametric(ev_mu, ev_sigma)\n",
        "\n",
        "ev_out = model.decode(ev_param_tensor).cpu().detach().numpy().reshape(28,28)\n",
        "\n",
        "fig, ax = plt.subplots(1,2)\n",
        "\n",
        "ax[0].set_title('Original Image')\n",
        "\n",
        "ax[0].imshow(ev_img, cmap='bone_r')\n",
        "\n",
        "ax[1].set_title('Reconstructed Image')\n",
        "\n",
        "ax[1].imshow(ev_out, cmap='bone_r')\n",
        "\n",
        "plt.plot()"
      ],
      "metadata": {
        "colab": {
          "base_uri": "https://localhost:8080/",
          "height": 325
        },
        "id": "lHK6wDzt6V0N",
        "outputId": "770461f7-7e3a-4ae5-d11e-409196811667"
      },
      "execution_count": null,
      "outputs": [
        {
          "output_type": "execute_result",
          "data": {
            "text/plain": [
              "[]"
            ]
          },
          "metadata": {},
          "execution_count": 15
        },
        {
          "output_type": "display_data",
          "data": {
            "text/plain": [
              "<Figure size 640x480 with 2 Axes>"
            ],
            "image/png": "[encoded data removed]"
          },
          "metadata": {}
        }
      ]
    }
  ]
}